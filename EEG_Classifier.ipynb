{
  "cells": [
    {
      "cell_type": "markdown",
      "metadata": {
        "id": "PRIVvrgHPpR7"
      },
      "source": [
        "# Training of Basic, Maxpool, Temp, LSTM and Mix CNN Models on EEG Data"
      ]
    },
    {
      "cell_type": "markdown",
      "metadata": {
        "id": "SUPevHWuPpSD"
      },
      "source": [
        "##Imports"
      ]
    },
    {
      "cell_type": "code",
      "source": [
        "import numpy as np \n",
        "import scipy.io as sio\n",
        "import torch\n",
        "import os \n",
        "\n",
        "import torch.optim as optim\n",
        "import torch.nn.functional as F\n",
        "\n",
        "from torch.autograd import Variable\n",
        "from torch.utils.data.dataset import Dataset\n",
        "from torch.utils.data import DataLoader,random_split"
      ],
      "metadata": {
        "id": "79m-LV65Zaa9"
      },
      "execution_count": null,
      "outputs": []
    },
    {
      "cell_type": "code",
      "execution_count": null,
      "metadata": {
        "id": "ptVFPulGPpSF"
      },
      "outputs": [],
      "source": [
        "from Utils import *\n",
        "from Models import *\n",
        "\n",
        "torch.manual_seed(1234)\n",
        "np.random.seed(1234)\n",
        "\n",
        "import warnings\n",
        "warnings.simplefilter(\"ignore\")"
      ]
    },
    {
      "cell_type": "markdown",
      "source": [],
      "metadata": {
        "id": "tH9QNs-9ZVyH"
      }
    },
    {
      "cell_type": "markdown",
      "metadata": {
        "id": "RJphLGxgPpSI"
      },
      "source": [
        "## Loading Images \n",
        "The images are loaded from .mat files for easier processing. The numpy arrays store the attributes of the dataset, as listed below."
      ]
    },
    {
      "cell_type": "code",
      "execution_count": null,
      "metadata": {
        "id": "BTWI8EmAPpSJ",
        "outputId": "84164d77-b475-440f-ba03-80f0ed3f5c2a",
        "colab": {
          "base_uri": "https://localhost:8080/"
        }
      },
      "outputs": [
        {
          "output_type": "stream",
          "name": "stdout",
          "text": [
            "(2670, 3, 32, 32)\n",
            "(2670, 3, 32, 32)\n",
            "(2670,)\n",
            "(2670,)\n"
          ]
        }
      ],
      "source": [
        "#Loads a mean image sampled over all seven windows of the EEG scan\n",
        "Mean_Images = sio.loadmat(\"./Sample Data/images.mat\")[\"img\"] \n",
        "print(np.shape(Mean_Images))\n",
        "\n",
        "#Loads the images correpsonding to the 7-window EEG scan\n",
        "Images = sio.loadmat(\"./Sample Data/images.mat\")[\"img\"]\n",
        "print(np.shape(Images))\n",
        "\n",
        "#Denotes signal/load labels for each set of scans/mean image\n",
        "Label = (sio.loadmat(\"./Sample Data/FeatureMat_timeWin\")[\"features\"][:,-1]-1).astype(int)\n",
        "print(np.shape(Label)) \n",
        "\n",
        "#Denotes Patient IDs\n",
        "Patient_id = sio.loadmat(\"./Sample Data/trials_subNums.mat\")['subjectNum'][0]\n",
        "print(np.shape(Patient_id))"
      ]
    },
    {
      "cell_type": "markdown",
      "metadata": {
        "id": "AG1juPP9PpSL"
      },
      "source": [
        "## Loading patient dataset \n",
        "From the total data, we select the images corresponding patient. "
      ]
    },
    {
      "cell_type": "code",
      "execution_count": null,
      "metadata": {
        "id": "AAnNvLuLPpSM",
        "outputId": "87adf554-d429-4322-d9af-9d4ad5b266d7",
        "colab": {
          "base_uri": "https://localhost:8080/"
        }
      },
      "outputs": [
        {
          "output_type": "stream",
          "name": "stdout",
          "text": [
            "Choose among the patient : [ 1  2  3  4  6  7  8  9 10 11 12 14 15]\n"
          ]
        }
      ],
      "source": [
        "print(\"Choose among the patient : \"+str(np.unique(Patient_id)))"
      ]
    },
    {
      "cell_type": "code",
      "execution_count": null,
      "metadata": {
        "id": "JmYwDEpFPpSP"
      },
      "outputs": [],
      "source": [
        "chosen_patient = 9"
      ]
    },
    {
      "cell_type": "code",
      "execution_count": null,
      "metadata": {
        "id": "Hr3AGjCHPpSS"
      },
      "outputs": [],
      "source": [
        "train_split = 0.8\n",
        "test_split = 0.2\n",
        "batch_size = 32"
      ]
    },
    {
      "cell_type": "code",
      "execution_count": null,
      "metadata": {
        "id": "oW7sK7kvPpSU"
      },
      "outputs": [],
      "source": [
        "EEG = EEGImagesDataset(label=Label[Patient_id==chosen_patient], image=Mean_Images[Patient_id==chosen_patient])\n",
        "\n",
        "lengths = [int(len(EEG)*train_split+1), int(len(EEG)*test_split)]\n",
        "Train, Test = random_split(EEG, lengths)\n",
        "\n",
        "Trainloader = DataLoader(Train,batch_size=batch_size)\n",
        "Testloader = DataLoader(Test, batch_size=batch_size)"
      ]
    },
    {
      "cell_type": "markdown",
      "metadata": {
        "id": "HAy4UUUAPpSQ"
      },
      "source": [
        "## Basic CNN\n",
        "A basic CNN implementation on the image dataset."
      ]
    },
    {
      "cell_type": "code",
      "execution_count": null,
      "metadata": {
        "id": "lsAzFVk1PpSU",
        "colab": {
          "base_uri": "https://localhost:8080/"
        },
        "outputId": "8dc27bc1-2fe7-4cf3-e24a-b237f11f3431"
      },
      "outputs": [
        {
          "output_type": "stream",
          "name": "stdout",
          "text": [
            "Begin Training for Patient 9\n",
            "[5,  50]\tloss: 0.510\tAccuracy : 0.796\t\tval-loss: 0.391\tval-Accuracy : 0.825\n",
            "[10,  50]\tloss: 0.097\tAccuracy : 0.981\t\tval-loss: 0.084\tval-Accuracy : 0.950\n",
            "[15,  50]\tloss: 0.070\tAccuracy : 0.963\t\tval-loss: 0.080\tval-Accuracy : 0.950\n",
            "[20,  50]\tloss: 0.030\tAccuracy : 0.981\t\tval-loss: 0.016\tval-Accuracy : 1.000\n",
            "[25,  50]\tloss: 0.001\tAccuracy : 1.000\t\tval-loss: 0.038\tval-Accuracy : 0.975\n",
            "[30,  50]\tloss: 0.000\tAccuracy : 1.000\t\tval-loss: 0.019\tval-Accuracy : 0.975\n",
            "[35,  50]\tloss: 0.000\tAccuracy : 1.000\t\tval-loss: 0.017\tval-Accuracy : 0.975\n",
            "[40,  50]\tloss: 0.000\tAccuracy : 1.000\t\tval-loss: 0.016\tval-Accuracy : 0.975\n",
            "[45,  50]\tloss: 0.000\tAccuracy : 1.000\t\tval-loss: 0.014\tval-Accuracy : 0.975\n",
            "[50,  50]\tloss: 0.000\tAccuracy : 1.000\t\tval-loss: 0.009\tval-Accuracy : 1.000\n"
          ]
        }
      ],
      "source": [
        "print('Begin Training for Patient '+str(chosen_patient))\n",
        "res = TrainTest_Model(BasicCNN, Trainloader, Testloader, n_epoch=50, learning_rate=0.001, print_epoch=5, opti='Adam')"
      ]
    },
    {
      "cell_type": "markdown",
      "metadata": {
        "id": "u2c1-XglPpSV"
      },
      "source": [
        "## Maxpool CNN\n",
        "A Max-pooling model which performs a maxpool over the 7 EEG windows."
      ]
    },
    {
      "cell_type": "code",
      "source": [
        "EEG = EEGImagesDataset(label=Label[Patient_id==chosen_patient], image=Images[Patient_id==chosen_patient])\n",
        "\n",
        "lengths = [int(len(EEG)*train_split+1), int(len(EEG)*test_split)]\n",
        "Train, Test = random_split(EEG, lengths)\n",
        "\n",
        "Trainloader = DataLoader(Train,batch_size=batch_size)\n",
        "Testloader = DataLoader(Test, batch_size=batch_size)"
      ],
      "metadata": {
        "id": "Tz5GGCQMffhu"
      },
      "execution_count": null,
      "outputs": []
    },
    {
      "cell_type": "code",
      "execution_count": null,
      "metadata": {
        "outputId": "246ad241-0c35-46b8-8348-e60b4a7151e1",
        "id": "507_WmOkoBvX"
      },
      "outputs": [
        {
          "name": "stdout",
          "output_type": "stream",
          "text": [
            "Begin Training for Patient 9\n",
            "[5,  45]\tloss: 0.850\tAccuracy : 0.617\t\tval-loss: 0.644\tval-Accuracy : 0.875\n",
            "[10,  45]\tloss: 0.159\tAccuracy : 0.920\t\tval-loss: 0.980\tval-Accuracy : 0.825\n",
            "[15,  45]\tloss: 0.094\tAccuracy : 0.963\t\tval-loss: 0.233\tval-Accuracy : 0.900\n",
            "[20,  45]\tloss: 0.003\tAccuracy : 1.000\t\tval-loss: 0.090\tval-Accuracy : 0.950\n",
            "[25,  45]\tloss: 0.000\tAccuracy : 1.000\t\tval-loss: 0.017\tval-Accuracy : 1.000\n",
            "[30,  45]\tloss: 0.000\tAccuracy : 1.000\t\tval-loss: 0.017\tval-Accuracy : 1.000\n",
            "[35,  45]\tloss: 0.000\tAccuracy : 1.000\t\tval-loss: 0.015\tval-Accuracy : 1.000\n",
            "[40,  45]\tloss: 0.000\tAccuracy : 1.000\t\tval-loss: 0.011\tval-Accuracy : 1.000\n",
            "[45,  45]\tloss: 0.000\tAccuracy : 1.000\t\tval-loss: 0.006\tval-Accuracy : 1.000\n"
          ]
        }
      ],
      "source": [
        "print('Begin Training for Patient '+str(chosen_patient))\n",
        "res = TrainTest_Model(MaxCNN, Trainloader, Testloader, n_epoch=50, learning_rate=0.001, print_epoch=5, opti='Adam')"
      ]
    },
    {
      "cell_type": "markdown",
      "metadata": {
        "id": "fY0tBt_wPpSZ"
      },
      "source": [
        "## Temp CNN\n",
        "A Conv1D model which performs a 1D convolution over the 7 EEG windows."
      ]
    },
    {
      "cell_type": "code",
      "execution_count": null,
      "metadata": {
        "outputId": "94d0be18-ea17-4c15-a58e-0e15ec532c28",
        "id": "NY0oY0ltoHvz"
      },
      "outputs": [
        {
          "name": "stdout",
          "output_type": "stream",
          "text": [
            "Begin Training for Patient 9\n",
            "[5,  45]\tloss: 0.438\tAccuracy : 0.821\t\tval-loss: 1.963\tval-Accuracy : 0.750\n",
            "[10,  45]\tloss: 0.153\tAccuracy : 0.938\t\tval-loss: 2.079\tval-Accuracy : 0.875\n",
            "[15,  45]\tloss: 0.005\tAccuracy : 1.000\t\tval-loss: 4.025\tval-Accuracy : 0.825\n",
            "[20,  45]\tloss: 0.000\tAccuracy : 1.000\t\tval-loss: 3.416\tval-Accuracy : 0.900\n",
            "[25,  45]\tloss: 0.000\tAccuracy : 1.000\t\tval-loss: 3.587\tval-Accuracy : 0.900\n",
            "[30,  45]\tloss: 0.000\tAccuracy : 1.000\t\tval-loss: 3.672\tval-Accuracy : 0.900\n",
            "[35,  45]\tloss: 0.000\tAccuracy : 1.000\t\tval-loss: 3.827\tval-Accuracy : 0.900\n",
            "[40,  45]\tloss: 0.000\tAccuracy : 1.000\t\tval-loss: 4.332\tval-Accuracy : 0.900\n",
            "[45,  45]\tloss: 0.000\tAccuracy : 1.000\t\tval-loss: 5.142\tval-Accuracy : 0.900\n",
            "Finished Training \n",
            " loss: 0.000\tAccuracy : 1.000\t\tval-loss: 5.142\tval-Accuracy : 0.900\n"
          ]
        }
      ],
      "source": [
        "print('Begin Training for Patient '+str(chosen_patient))\n",
        "res = TrainTest_Model(TempCNN, Trainloader, Testloader, n_epoch=50, learning_rate=0.001, print_epoch=5, opti='Adam')"
      ]
    },
    {
      "cell_type": "markdown",
      "metadata": {
        "id": "1VxBCycJPpSa"
      },
      "source": [
        "## LSTM CNN\n",
        "An LSTM Model which applies an RNN over the 7 EEG windows."
      ]
    },
    {
      "cell_type": "code",
      "execution_count": null,
      "metadata": {
        "outputId": "b217a903-cadd-417e-9264-455f053962a1",
        "id": "NdmP0CjXoNay"
      },
      "outputs": [
        {
          "name": "stdout",
          "output_type": "stream",
          "text": [
            "Begin Training for Patient 9\n",
            "[5,  45]\tloss: 1.321\tAccuracy : 0.333\t\tval-loss: 1.386\tval-Accuracy : 0.225\n",
            "[10,  45]\tloss: 1.225\tAccuracy : 0.364\t\tval-loss: 1.427\tval-Accuracy : 0.325\n",
            "[15,  45]\tloss: 1.002\tAccuracy : 0.562\t\tval-loss: 1.115\tval-Accuracy : 0.450\n",
            "[20,  45]\tloss: 0.664\tAccuracy : 0.704\t\tval-loss: 0.744\tval-Accuracy : 0.600\n",
            "[25,  45]\tloss: 0.392\tAccuracy : 0.895\t\tval-loss: 0.515\tval-Accuracy : 0.775\n",
            "[30,  45]\tloss: 0.187\tAccuracy : 0.988\t\tval-loss: 0.285\tval-Accuracy : 0.900\n",
            "[35,  45]\tloss: 0.082\tAccuracy : 1.000\t\tval-loss: 0.236\tval-Accuracy : 0.825\n",
            "[40,  45]\tloss: 0.040\tAccuracy : 1.000\t\tval-loss: 0.170\tval-Accuracy : 0.900\n",
            "[45,  45]\tloss: 0.022\tAccuracy : 1.000\t\tval-loss: 0.141\tval-Accuracy : 0.950\n",
            "Finished Training \n",
            " loss: 0.022\tAccuracy : 1.000\t\tval-loss: 0.141\tval-Accuracy : 0.950\n"
          ]
        }
      ],
      "source": [
        "print('Begin Training for Patient '+str(chosen_patient))\n",
        "res = TrainTest_Model(LSTM, Trainloader, Testloader, n_epoch=50, learning_rate=0.0001, print_epoch=5, opti='Adam')"
      ]
    },
    {
      "cell_type": "markdown",
      "metadata": {
        "id": "_s_e2d8aPpSd"
      },
      "source": [
        "## Mix CNN\n",
        "An LSTM Model which applies both a CNN and an RNN over the 7 EEG windows."
      ]
    },
    {
      "cell_type": "code",
      "execution_count": null,
      "metadata": {
        "outputId": "e42811cd-885a-4707-a1f0-3f4715ecbe8b",
        "id": "Rle3wMvToRQW"
      },
      "outputs": [
        {
          "name": "stdout",
          "output_type": "stream",
          "text": [
            "Begin Training for Patient 9\n",
            "[5, 100]\tloss: 1.375\tAccuracy : 0.296\t\tval-loss: 1.376\tval-Accuracy : 0.150\n",
            "[10, 100]\tloss: 1.362\tAccuracy : 0.302\t\tval-loss: 1.371\tval-Accuracy : 0.225\n",
            "[15, 100]\tloss: 1.352\tAccuracy : 0.302\t\tval-loss: 1.368\tval-Accuracy : 0.225\n",
            "[20, 100]\tloss: 1.342\tAccuracy : 0.302\t\tval-loss: 1.362\tval-Accuracy : 0.225\n",
            "[25, 100]\tloss: 1.312\tAccuracy : 0.302\t\tval-loss: 1.335\tval-Accuracy : 0.225\n",
            "[30, 100]\tloss: 1.191\tAccuracy : 0.302\t\tval-loss: 1.250\tval-Accuracy : 0.225\n",
            "[35, 100]\tloss: 0.981\tAccuracy : 0.586\t\tval-loss: 1.105\tval-Accuracy : 0.575\n",
            "[40, 100]\tloss: 0.836\tAccuracy : 0.605\t\tval-loss: 1.015\tval-Accuracy : 0.650\n",
            "[45, 100]\tloss: 0.760\tAccuracy : 0.611\t\tval-loss: 1.008\tval-Accuracy : 0.700\n",
            "[50, 100]\tloss: 0.677\tAccuracy : 0.654\t\tval-loss: 1.047\tval-Accuracy : 0.725\n",
            "[55, 100]\tloss: 0.561\tAccuracy : 0.753\t\tval-loss: 1.120\tval-Accuracy : 0.725\n",
            "[60, 100]\tloss: 0.421\tAccuracy : 0.833\t\tval-loss: 1.253\tval-Accuracy : 0.800\n",
            "[65, 100]\tloss: 0.301\tAccuracy : 0.895\t\tval-loss: 1.419\tval-Accuracy : 0.750\n",
            "[70, 100]\tloss: 0.212\tAccuracy : 0.944\t\tval-loss: 1.557\tval-Accuracy : 0.825\n",
            "[75, 100]\tloss: 0.145\tAccuracy : 0.969\t\tval-loss: 1.810\tval-Accuracy : 0.875\n",
            "[80, 100]\tloss: 0.096\tAccuracy : 0.981\t\tval-loss: 2.223\tval-Accuracy : 0.875\n",
            "[85, 100]\tloss: 0.063\tAccuracy : 0.994\t\tval-loss: 2.621\tval-Accuracy : 0.875\n",
            "[90, 100]\tloss: 0.043\tAccuracy : 0.994\t\tval-loss: 2.955\tval-Accuracy : 0.900\n",
            "[95, 100]\tloss: 0.031\tAccuracy : 0.994\t\tval-loss: 3.245\tval-Accuracy : 0.900\n",
            "[100, 100]\tloss: 0.023\tAccuracy : 0.994\t\tval-loss: 3.496\tval-Accuracy : 0.900\n",
            "Finished Training \n",
            " loss: 0.023\tAccuracy : 0.994\t\tval-loss: 3.496\tval-Accuracy : 0.900\n"
          ]
        }
      ],
      "source": [
        "print('Begin Training for Patient '+str(chosen_patient))\n",
        "res = TrainTest_Model(Mix, Trainloader, Testloader, n_epoch=50, learning_rate=0.00001, print_epoch=5, opti='Adam')"
      ]
    }
  ],
  "metadata": {
    "kernelspec": {
      "display_name": "Pytorch",
      "language": "python",
      "name": "pytorch"
    },
    "language_info": {
      "codemirror_mode": {
        "name": "ipython",
        "version": 3
      },
      "file_extension": ".py",
      "mimetype": "text/x-python",
      "name": "python",
      "nbconvert_exporter": "python",
      "pygments_lexer": "ipython3",
      "version": "3.7.5"
    },
    "colab": {
      "provenance": []
    },
    "accelerator": "GPU",
    "gpuClass": "standard"
  },
  "nbformat": 4,
  "nbformat_minor": 0
}